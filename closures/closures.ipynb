{
  "nbformat": 4,
  "nbformat_minor": 0,
  "metadata": {
    "colab": {
      "name": "closures.ipynb",
      "provenance": []
    },
    "kernelspec": {
      "name": "python3",
      "display_name": "Python 3"
    },
    "language_info": {
      "name": "python"
    }
  },
  "cells": [
    {
      "cell_type": "markdown",
      "metadata": {
        "id": "YvCdH6me8Gfr"
      },
      "source": [
        "# A closure that takes a function and then checks whether the function passed has a docstring with more than 50 characters. 50 is stored as a free variable. "
      ]
    },
    {
      "cell_type": "code",
      "metadata": {
        "id": "HZkMYF3_waQl"
      },
      "source": [
        "def docstringcounter(docstring_threshold = 50): \n",
        "  \"\"\"\n",
        "  Function to check the length of the docstring\n",
        "  \"\"\" \n",
        "  def check_docstring(func):\n",
        "    docstring_length = \"lesser than\" if len(\"\".join(func.__doc__.split())) < docstring_threshold else \"more than\"\n",
        "    docstring_length = \"equal to\" if len(\"\".join(func.__doc__.split())) == docstring_threshold else docstring_length\n",
        "    return \"Docstring length of function '{}' is {} and it is {} {}\".format(func.__name__, len(\"\".join(func.__doc__.split())), docstring_length, docstring_threshold)\n",
        "  return check_docstring\n"
      ],
      "execution_count": 1,
      "outputs": []
    },
    {
      "cell_type": "markdown",
      "metadata": {
        "id": "Z8YiVc7e8RED"
      },
      "source": [
        "## Evaluation"
      ]
    },
    {
      "cell_type": "code",
      "metadata": {
        "id": "K3iWDehy8cjO"
      },
      "source": [
        "def evaluation1():\n",
        "  \"\"\"\n",
        "  This is a docstring function with length less than 50\n",
        "  \"\"\"\n",
        "  pass\n",
        "\n",
        "def evaluation2():\n",
        "  \"\"\"\n",
        "  This is a docstring function and the length of this is more than 50.\n",
        "  \"\"\"\n",
        "  pass\n",
        "\n",
        "def evaluation3():\n",
        "  \"\"\"\n",
        "  This is a docstring function and its length is equal to 50...\n",
        "  \"\"\"\n",
        "  pass"
      ],
      "execution_count": 2,
      "outputs": []
    },
    {
      "cell_type": "code",
      "metadata": {
        "id": "k85xrBrW8T-Z"
      },
      "source": [
        "check_docstringlength_closure = docstringcounter()"
      ],
      "execution_count": 3,
      "outputs": []
    },
    {
      "cell_type": "code",
      "metadata": {
        "colab": {
          "base_uri": "https://localhost:8080/"
        },
        "id": "B52dbcIC8xAS",
        "outputId": "9379e451-c60e-4cd8-bc21-3df4d2a8010e"
      },
      "source": [
        "print(check_docstringlength_closure(evaluation1))\n",
        "print(check_docstringlength_closure(evaluation2))\n",
        "print(check_docstringlength_closure(evaluation3))"
      ],
      "execution_count": 4,
      "outputs": [
        {
          "output_type": "stream",
          "text": [
            "Docstring length of function 'evaluation1' is 44 and it is lesser than 50\n",
            "Docstring length of function 'evaluation2' is 55 and it is more than 50\n",
            "Docstring length of function 'evaluation3' is 50 and it is equal to 50\n"
          ],
          "name": "stdout"
        }
      ]
    },
    {
      "cell_type": "markdown",
      "metadata": {
        "id": "x-Nkz7lu-p5R"
      },
      "source": [
        "# A closure that gives you the next Fibonacci number "
      ]
    },
    {
      "cell_type": "code",
      "metadata": {
        "id": "XwZo6O5UISoi"
      },
      "source": [
        "def fibonacciSeries():\n",
        "  fibonacci_series = []\n",
        "  def generate_number(fibonacci_series=fibonacci_series):    \n",
        "    fibonacci_series += [0, 1] if fibonacci_series == [] else [fibonacci_series[-1] + fibonacci_series[-2]]\n",
        "    return f\"Current Fibonacci Sequence -> {', '.join(list(map(str, fibonacci_series)))}  ||  Next Fibonacci number for the sequence -> {fibonacci_series[-1] + fibonacci_series[-2]}\"\n",
        "  return generate_number\n",
        "    "
      ],
      "execution_count": 5,
      "outputs": []
    },
    {
      "cell_type": "markdown",
      "metadata": {
        "id": "6zUo0faD-x7y"
      },
      "source": [
        "## Evaluation\n"
      ]
    },
    {
      "cell_type": "code",
      "metadata": {
        "colab": {
          "base_uri": "https://localhost:8080/"
        },
        "id": "TIEA9ZOQ-9iR",
        "outputId": "d2cc0f5e-985c-4dad-ba78-ced340d000b7"
      },
      "source": [
        "sequence = fibonacciSeries()\n",
        "print(sequence())"
      ],
      "execution_count": 6,
      "outputs": [
        {
          "output_type": "stream",
          "text": [
            "Current Fibonacci Sequence -> 0, 1  ||  Next Fibonacci number for the sequence -> 1\n"
          ],
          "name": "stdout"
        }
      ]
    },
    {
      "cell_type": "code",
      "metadata": {
        "colab": {
          "base_uri": "https://localhost:8080/"
        },
        "id": "A7XiAF6E_EZB",
        "outputId": "d6310032-d68e-4d09-848e-7a7eca657601"
      },
      "source": [
        "print(sequence())"
      ],
      "execution_count": 7,
      "outputs": [
        {
          "output_type": "stream",
          "text": [
            "Current Fibonacci Sequence -> 0, 1, 1  ||  Next Fibonacci number for the sequence -> 2\n"
          ],
          "name": "stdout"
        }
      ]
    },
    {
      "cell_type": "code",
      "metadata": {
        "colab": {
          "base_uri": "https://localhost:8080/"
        },
        "id": "2lx5V9DO_GVR",
        "outputId": "6654ff91-7074-4128-a41c-f805d2dd0c2f"
      },
      "source": [
        "print(sequence())"
      ],
      "execution_count": 8,
      "outputs": [
        {
          "output_type": "stream",
          "text": [
            "Current Fibonacci Sequence -> 0, 1, 1, 2  ||  Next Fibonacci number for the sequence -> 3\n"
          ],
          "name": "stdout"
        }
      ]
    },
    {
      "cell_type": "code",
      "metadata": {
        "colab": {
          "base_uri": "https://localhost:8080/"
        },
        "id": "ENntJBBx_IYy",
        "outputId": "02b3e01a-37b7-4fde-eb28-c830caf141d8"
      },
      "source": [
        "print(sequence())"
      ],
      "execution_count": 9,
      "outputs": [
        {
          "output_type": "stream",
          "text": [
            "Current Fibonacci Sequence -> 0, 1, 1, 2, 3  ||  Next Fibonacci number for the sequence -> 5\n"
          ],
          "name": "stdout"
        }
      ]
    },
    {
      "cell_type": "markdown",
      "metadata": {
        "id": "2yFrANS0_Kg6"
      },
      "source": [
        "#A closure that can keep track of how many times add/mul/div functions were called, and update A global dictionary variable with the counts"
      ]
    },
    {
      "cell_type": "code",
      "metadata": {
        "id": "ZT0U2a5PlC4r"
      },
      "source": [
        "count_operations = dict()\n",
        "def counter(func):\n",
        "  count = 0\n",
        "  def operations(*args, **kwargs):\n",
        "    nonlocal count\n",
        "    count += 1\n",
        "    count_operations[func.__name__] = count\n",
        "    return func(*args, **kwargs)\n",
        "  return operations\n"
      ],
      "execution_count": 10,
      "outputs": []
    },
    {
      "cell_type": "code",
      "metadata": {
        "id": "cgwUixwHy30l"
      },
      "source": [
        "def add(*args):\n",
        "  return sum(args)\n",
        "  \n",
        "def mul(*args):\n",
        "  value = 1\n",
        "  for arg in args:\n",
        "    value *= arg\n",
        "  return value\n",
        "\n",
        "def div(*args):\n",
        "  if len(args) != 1:\n",
        "    args = [i/j for i,j in zip(args[:-1],args[1:])]\n",
        "    div(*args)\n",
        "  return int(args[0])\n",
        "  \n"
      ],
      "execution_count": 11,
      "outputs": []
    },
    {
      "cell_type": "markdown",
      "metadata": {
        "id": "r-X8r726_-Sg"
      },
      "source": [
        "## Evaluation"
      ]
    },
    {
      "cell_type": "code",
      "metadata": {
        "id": "8I_mHW7x3vub",
        "colab": {
          "base_uri": "https://localhost:8080/"
        },
        "outputId": "c36973ce-4f37-4d54-a911-c3d4cdd71a2b"
      },
      "source": [
        "operation1 = counter(add)\n",
        "operation1(5,6,7)"
      ],
      "execution_count": 12,
      "outputs": [
        {
          "output_type": "execute_result",
          "data": {
            "text/plain": [
              "18"
            ]
          },
          "metadata": {
            "tags": []
          },
          "execution_count": 12
        }
      ]
    },
    {
      "cell_type": "code",
      "metadata": {
        "colab": {
          "base_uri": "https://localhost:8080/"
        },
        "id": "UbbKkzh76bSR",
        "outputId": "9904e67b-5023-4c80-9702-0777cc426889"
      },
      "source": [
        "count_operations"
      ],
      "execution_count": 13,
      "outputs": [
        {
          "output_type": "execute_result",
          "data": {
            "text/plain": [
              "{'add': 1}"
            ]
          },
          "metadata": {
            "tags": []
          },
          "execution_count": 13
        }
      ]
    },
    {
      "cell_type": "code",
      "metadata": {
        "id": "oFXY51WdTq2F",
        "colab": {
          "base_uri": "https://localhost:8080/"
        },
        "outputId": "bdb9c4ae-34df-4a37-fd42-7daabe1647ad"
      },
      "source": [
        "operation2 = counter(mul)\n",
        "operation2(5,6)"
      ],
      "execution_count": 14,
      "outputs": [
        {
          "output_type": "execute_result",
          "data": {
            "text/plain": [
              "30"
            ]
          },
          "metadata": {
            "tags": []
          },
          "execution_count": 14
        }
      ]
    },
    {
      "cell_type": "code",
      "metadata": {
        "colab": {
          "base_uri": "https://localhost:8080/"
        },
        "id": "FvH50CcrTvVI",
        "outputId": "785be015-d9b2-42e2-8d6c-62e369cf2111"
      },
      "source": [
        "count_operations"
      ],
      "execution_count": 15,
      "outputs": [
        {
          "output_type": "execute_result",
          "data": {
            "text/plain": [
              "{'add': 1, 'mul': 1}"
            ]
          },
          "metadata": {
            "tags": []
          },
          "execution_count": 15
        }
      ]
    },
    {
      "cell_type": "code",
      "metadata": {
        "colab": {
          "base_uri": "https://localhost:8080/"
        },
        "id": "EBzy153IUAdv",
        "outputId": "078bc984-b7bd-4ba2-8879-cceaaeb3a2c3"
      },
      "source": [
        "operation3 = counter(div)\n",
        "operation3(30,6)"
      ],
      "execution_count": 16,
      "outputs": [
        {
          "output_type": "execute_result",
          "data": {
            "text/plain": [
              "5"
            ]
          },
          "metadata": {
            "tags": []
          },
          "execution_count": 16
        }
      ]
    },
    {
      "cell_type": "code",
      "metadata": {
        "colab": {
          "base_uri": "https://localhost:8080/"
        },
        "id": "kNwqJJ0rDHfO",
        "outputId": "bcb519ce-7ea5-48bd-9362-4af280b43c95"
      },
      "source": [
        "count_operations"
      ],
      "execution_count": 17,
      "outputs": [
        {
          "output_type": "execute_result",
          "data": {
            "text/plain": [
              "{'add': 1, 'div': 1, 'mul': 1}"
            ]
          },
          "metadata": {
            "tags": []
          },
          "execution_count": 17
        }
      ]
    },
    {
      "cell_type": "markdown",
      "metadata": {
        "id": "VhSX8FfGDcHL"
      },
      "source": [
        "#A closure that can keep track of how many times add/mul/div functions were called, and update ANY global dictionary variable with the counts"
      ]
    },
    {
      "cell_type": "code",
      "metadata": {
        "id": "WvoD_7lLDjFa"
      },
      "source": [
        "def counter(func, count_operations = dict()):\n",
        "  count = 0\n",
        "  def operations(*args, **kwargs):\n",
        "    nonlocal count\n",
        "    count += 1\n",
        "    count_operations[func.__name__] = count\n",
        "    return func(*args, **kwargs)\n",
        "  return operations"
      ],
      "execution_count": 18,
      "outputs": []
    },
    {
      "cell_type": "code",
      "metadata": {
        "id": "_6pxh0dBD-mi"
      },
      "source": [
        "def add(*args):\n",
        "  return sum(args)\n",
        "  \n",
        "def mul(*args):\n",
        "  value = 1\n",
        "  for arg in args:\n",
        "    value *= arg\n",
        "  return value\n",
        "\n",
        "def div(*args):\n",
        "  if len(args) != 1:\n",
        "    args = [i/j for i,j in zip(args[:-1],args[1:])]\n",
        "    div(*args)\n",
        "  return int(args[0])\n",
        "  \n"
      ],
      "execution_count": 19,
      "outputs": []
    },
    {
      "cell_type": "markdown",
      "metadata": {
        "id": "_8-tyx75EBpU"
      },
      "source": [
        "## Evaluation"
      ]
    },
    {
      "cell_type": "code",
      "metadata": {
        "id": "PslO9LyNECi6"
      },
      "source": [
        "random_dict = dict()"
      ],
      "execution_count": 20,
      "outputs": []
    },
    {
      "cell_type": "code",
      "metadata": {
        "colab": {
          "base_uri": "https://localhost:8080/"
        },
        "id": "ZUbVP1pGEQLC",
        "outputId": "d20b2f49-1459-4cd1-cdb9-f0f59f868408"
      },
      "source": [
        "operation1 = counter(add, random_dict)\n",
        "operation1(5,6,7)"
      ],
      "execution_count": 21,
      "outputs": [
        {
          "output_type": "execute_result",
          "data": {
            "text/plain": [
              "18"
            ]
          },
          "metadata": {
            "tags": []
          },
          "execution_count": 21
        }
      ]
    },
    {
      "cell_type": "code",
      "metadata": {
        "colab": {
          "base_uri": "https://localhost:8080/"
        },
        "id": "xEaPt1veEhYY",
        "outputId": "d833fc53-9658-470e-d3a0-0365f6e86208"
      },
      "source": [
        "random_dict"
      ],
      "execution_count": 22,
      "outputs": [
        {
          "output_type": "execute_result",
          "data": {
            "text/plain": [
              "{'add': 1}"
            ]
          },
          "metadata": {
            "tags": []
          },
          "execution_count": 22
        }
      ]
    },
    {
      "cell_type": "code",
      "metadata": {
        "colab": {
          "base_uri": "https://localhost:8080/"
        },
        "id": "d0bywQozElRF",
        "outputId": "0324708a-cb6b-44d3-edba-035994730b3b"
      },
      "source": [
        "operation2 = counter(mul, random_dict)\n",
        "operation2(5,6)"
      ],
      "execution_count": 23,
      "outputs": [
        {
          "output_type": "execute_result",
          "data": {
            "text/plain": [
              "30"
            ]
          },
          "metadata": {
            "tags": []
          },
          "execution_count": 23
        }
      ]
    },
    {
      "cell_type": "code",
      "metadata": {
        "colab": {
          "base_uri": "https://localhost:8080/"
        },
        "id": "gZ3AxphmEpZK",
        "outputId": "d10809d9-0414-4fcc-a500-43460411365e"
      },
      "source": [
        "random_dict"
      ],
      "execution_count": 24,
      "outputs": [
        {
          "output_type": "execute_result",
          "data": {
            "text/plain": [
              "{'add': 1, 'mul': 1}"
            ]
          },
          "metadata": {
            "tags": []
          },
          "execution_count": 24
        }
      ]
    },
    {
      "cell_type": "code",
      "metadata": {
        "colab": {
          "base_uri": "https://localhost:8080/"
        },
        "id": "-TaspPhLErJa",
        "outputId": "9285df23-62ee-47a4-ef21-d0c35ab41043"
      },
      "source": [
        "operation3 = counter(div, random_dict)\n",
        "operation3(30,6)"
      ],
      "execution_count": 25,
      "outputs": [
        {
          "output_type": "execute_result",
          "data": {
            "text/plain": [
              "5"
            ]
          },
          "metadata": {
            "tags": []
          },
          "execution_count": 25
        }
      ]
    },
    {
      "cell_type": "code",
      "metadata": {
        "colab": {
          "base_uri": "https://localhost:8080/"
        },
        "id": "xj0QVmCOErx5",
        "outputId": "a8679a64-154c-4e2d-dbb7-d382d999f03d"
      },
      "source": [
        "random_dict"
      ],
      "execution_count": 26,
      "outputs": [
        {
          "output_type": "execute_result",
          "data": {
            "text/plain": [
              "{'add': 1, 'div': 1, 'mul': 1}"
            ]
          },
          "metadata": {
            "tags": []
          },
          "execution_count": 26
        }
      ]
    }
  ]
}
